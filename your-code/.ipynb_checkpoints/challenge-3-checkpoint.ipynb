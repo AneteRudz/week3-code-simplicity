{
 "cells": [
  {
   "cell_type": "code",
   "execution_count": 1,
   "metadata": {},
   "outputs": [
    {
     "name": "stdout",
     "output_type": "stream",
     "text": [
      "What is the maximal length of the triangle side? Enter a number: 4\n",
      "The longest side possible is 0\n"
     ]
    }
   ],
   "source": [
    "max_lenght = input(\"What is the maximal length of the triangle side? Enter a number: \")\n",
    "\n",
    "'''\n",
    "L.S. Well done! Use of list comprehension is correct. \n",
    "'''\n",
    "\n",
    "def longest_side_possible(max_lenght):\n",
    "    solutions = [[x, y, z] for x in range(5, max_lenght) for y in range(4, max_lenght)\n",
    "                 for z in range(3, max_lenght)\n",
    "                 if ((x*x)==(y*y)+(z*z))]\n",
    "\n",
    "    longest = 0\n",
    "    for solution in solutions:\n",
    "        if longest < max(solution):\n",
    "            longest = max(solution)\n",
    "    return str(longest)\n",
    "\n",
    "print(\"The longest side possible is \"+ longest_side_possible(int(max_lenght)))\n",
    "\n"
   ]
  },
  {
   "cell_type": "code",
   "execution_count": 26,
   "metadata": {},
   "outputs": [],
   "source": []
  },
  {
   "cell_type": "code",
   "execution_count": null,
   "metadata": {},
   "outputs": [],
   "source": []
  }
 ],
 "metadata": {
  "kernelspec": {
   "display_name": "Python 3",
   "language": "python",
   "name": "python3"
  },
  "language_info": {
   "codemirror_mode": {
    "name": "ipython",
    "version": 3
   },
   "file_extension": ".py",
   "mimetype": "text/x-python",
   "name": "python",
   "nbconvert_exporter": "python",
   "pygments_lexer": "ipython3",
   "version": "3.6.4"
  }
 },
 "nbformat": 4,
 "nbformat_minor": 2
}
