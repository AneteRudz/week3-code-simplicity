{
 "cells": [
  {
   "cell_type": "code",
   "execution_count": 1,
   "metadata": {},
   "outputs": [
    {
     "name": "stdout",
     "output_type": "stream",
     "text": [
      "Enter minimum string length: 2\n",
      "Enter maximum string length: 5\n",
      "How many random strings to generate? 6\n",
      "['cn6s', 'ng', 'ls', 'h0', '2zx6', 'ylwm']\n"
     ]
    }
   ],
   "source": [
    "import random\n",
    "import sys\n",
    "\n",
    "'''\n",
    "L.S. Good improvement. Code works and looks good.  \n",
    "'''\n",
    "\n",
    "minimum_lenght = input('Enter minimum string length: ')\n",
    "maximum_lenght = input('Enter maximum string length: ')\n",
    "count_strings = input('How many random strings to generate? ')\n",
    "\n",
    "'''\n",
    "L.S. There are simpler ways to generate a list like this (e.g. ascii modules, chr data type etc.). \n",
    "'''\n",
    "lst = ['a','b','c','d','e','f','g','h','i','j','k','l','m','n','o','p','q','r','s','t','u','v','w','x','y','z','0','1','2','3','4','5','6','7','8','9']\n",
    "\n",
    "'''\n",
    "L.S. Well done! Very good to keep the default arguments. \n",
    "'''\n",
    "\n",
    "'''\n",
    "L.S. You could also have chosen to integrate these two functions. \n",
    "'''\n",
    "\n",
    "def RandomStringGenerator(lenght=12, item_list=lst):\n",
    "    item = ''\n",
    "    count = 0\n",
    "    while count < lenght:\n",
    "        item += random.choice(item_list)\n",
    "        count += 1\n",
    "    return item\n",
    "\n",
    "def BatchStringGenerator(n, min_lenght=8, max_length=12):\n",
    "    str_list = []\n",
    "    for i in range(n):\n",
    "        string = None\n",
    "        if min_lenght < max_length:\n",
    "            string = random.choice(range(min_lenght, max_length))\n",
    "        elif min_lenght == max_length:\n",
    "            string = min_lenght\n",
    "        else:\n",
    "            sys.exit('Incorrect min and max string lengths. Try again.')\n",
    "        str_list.append(RandomStringGenerator(string))\n",
    "    return str_list\n",
    "\n",
    "print(BatchStringGenerator(int(count_strings), int(minimum_lenght), int(maximum_lenght)))"
   ]
  },
  {
   "cell_type": "code",
   "execution_count": null,
   "metadata": {},
   "outputs": [],
   "source": []
  }
 ],
 "metadata": {
  "kernelspec": {
   "display_name": "Python 3",
   "language": "python",
   "name": "python3"
  },
  "language_info": {
   "codemirror_mode": {
    "name": "ipython",
    "version": 3
   },
   "file_extension": ".py",
   "mimetype": "text/x-python",
   "name": "python",
   "nbconvert_exporter": "python",
   "pygments_lexer": "ipython3",
   "version": "3.6.4"
  }
 },
 "nbformat": 4,
 "nbformat_minor": 2
}
