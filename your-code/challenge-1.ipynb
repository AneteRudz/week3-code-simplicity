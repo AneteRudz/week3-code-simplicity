{
 "cells": [
  {
   "cell_type": "code",
   "execution_count": 50,
   "metadata": {},
   "outputs": [
    {
     "name": "stdout",
     "output_type": "stream",
     "text": [
      "Welcome to this calculator!\n",
      "It can add and subtract whole numbers from zero to five\n",
      "Please choose your first number (zero to five): zero\n",
      "What do you want to do? plus or minus: minus\n",
      "Please choose your second number (zero to five): five\n",
      "zero minus five is -5\n",
      "Thanks for using this calculator, goodbye :)\n"
     ]
    }
   ],
   "source": [
    "print('Welcome to this calculator!')\n",
    "print('It can add and subtract whole numbers from zero to five')\n",
    "\n",
    "a = input('Please choose your first number (zero to five): ')\n",
    "b = input('What do you want to do? plus or minus: ')\n",
    "c = input('Please choose your second number (zero to five): ')\n",
    "\n",
    "\n",
    "\n",
    "def calculation(a,b,c):\n",
    "    if a == 'zero':\n",
    "        a = 0 \n",
    "    elif a == 'one':\n",
    "        a = 1\n",
    "    elif a == 'two':\n",
    "        a = 2\n",
    "    elif a == 'three':\n",
    "        a = 3\n",
    "    elif a == 'four':\n",
    "        a = 4\n",
    "    elif a == 'five':\n",
    "        a = 5\n",
    "\n",
    "    if c == 'zero':\n",
    "        c = 0 \n",
    "    elif c == 'one':\n",
    "        c = 1\n",
    "    elif c == 'two':\n",
    "        c = 2\n",
    "    elif c == 'three':\n",
    "        c = 3\n",
    "    elif c == 'four':\n",
    "        c = 4\n",
    "    elif c == 'five':\n",
    "        c = 5\n",
    "    \n",
    "    \n",
    "    if b == 'minus':\n",
    "        return a-c\n",
    "    elif b == 'plus':\n",
    "        return a+c\n",
    "    \n",
    "\n",
    "x = calculation(a, b, c)\n",
    "\n",
    "print(a, b, c, 'is', x)\n",
    "print(\"Thanks for using this calculator, goodbye :)\")\n",
    "\n",
    "\n"
   ]
  },
  {
   "cell_type": "code",
   "execution_count": null,
   "metadata": {},
   "outputs": [],
   "source": []
  }
 ],
 "metadata": {
  "kernelspec": {
   "display_name": "Python 3",
   "language": "python",
   "name": "python3"
  },
  "language_info": {
   "codemirror_mode": {
    "name": "ipython",
    "version": 3
   },
   "file_extension": ".py",
   "mimetype": "text/x-python",
   "name": "python",
   "nbconvert_exporter": "python",
   "pygments_lexer": "ipython3",
   "version": "3.7.3"
  }
 },
 "nbformat": 4,
 "nbformat_minor": 2
}
